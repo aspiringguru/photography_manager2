{
 "cells": [
  {
   "cell_type": "code",
   "execution_count": 1,
   "metadata": {},
   "outputs": [],
   "source": [
    "#pip install imutils"
   ]
  },
  {
   "cell_type": "code",
   "execution_count": 2,
   "metadata": {},
   "outputs": [],
   "source": [
    "from imutils import paths\n",
    "import imutils\n",
    "import argparse\n",
    "import cv2\n",
    "import os\n",
    "from PIL import Image, ImageDraw, ImageFont \n",
    "import datetime\n",
    "import platform #use to check win or linux as some python functions are different."
   ]
  },
  {
   "cell_type": "code",
   "execution_count": 3,
   "metadata": {},
   "outputs": [
    {
     "name": "stdout",
     "output_type": "stream",
     "text": [
      "imutils.__version__: 0.5.3\n",
      "argparse.__version__ 1.1\n",
      "cv2.__version__: 4.1.1\n",
      "Image.__version__: 6.1.0\n",
      "platform.__version__: 1.0.8\n"
     ]
    }
   ],
   "source": [
    "print(\"imutils.__version__:\", imutils.__version__)\n",
    "print(\"argparse.__version__\", argparse.__version__)\n",
    "print(\"cv2.__version__:\", cv2.__version__)\n",
    "print(\"Image.__version__:\", Image.__version__)\n",
    "print(\"platform.__version__:\", platform.__version__)"
   ]
  },
  {
   "cell_type": "code",
   "execution_count": 4,
   "metadata": {},
   "outputs": [],
   "source": [
    "BASE_DIR = \"/mnt/g/salsaSolo2019\"\n",
    "PHOTO_SUFFIX = \".jpg\"\n",
    "WATERMARKED_DIR = \"watermarked\"\n",
    "FILE_DATESTAMP_NAME = \"salsa_solo_2019_file_list_rev3.csv\"\n"
   ]
  },
  {
   "cell_type": "code",
   "execution_count": 5,
   "metadata": {},
   "outputs": [
    {
     "name": "stdout",
     "output_type": "stream",
     "text": [
      "# of subdirectories =  99\n"
     ]
    }
   ],
   "source": [
    "dirlist = [x[0] for x in os.walk(BASE_DIR)]\n",
    "print(\"# of subdirectories = \", len(dirlist))"
   ]
  },
  {
   "cell_type": "code",
   "execution_count": 21,
   "metadata": {},
   "outputs": [],
   "source": [
    "def imageInfo(file):\n",
    "    ctime = os.path.getctime(file)\n",
    "    #print(\"file:\", file)\n",
    "    ctime_dt = datetime.datetime.fromtimestamp(ctime)\n",
    "    cdate_time_text = str(ctime_dt.day) +\":\"+str(ctime_dt.month) +\":\"+str(ctime_dt.year) \\\n",
    "                +\":\"+str(ctime_dt.hour)+\":\"+str(ctime_dt.minute)+\":\"+str(ctime_dt.second)\n",
    "    #print(\"cdate_time_text:\", cdate_time_text)\n",
    "    mtime = os.path.getctime(file)\n",
    "    mtime_dt = datetime.datetime.fromtimestamp(mtime)\n",
    "    mdate_time_text = str(mtime_dt.day) +\":\"+str(mtime_dt.month) +\":\"+str(mtime_dt.year) \\\n",
    "                +\":\"+str(mtime_dt.hour)+\":\"+str(mtime_dt.minute)+\":\"+str(mtime_dt.second)\n",
    "    #print(\"mdate_time_text:\", mdate_time_text)\n",
    "    now = datetime.datetime.now()\n",
    "    current_time = now.strftime(\"%e/%m/%G %H:%M:%S\")\n",
    "    #print(\"Current Time =\", current_time)\n",
    "    \n",
    "    image = cv2.imread(file)\n",
    "    gray = cv2.cvtColor(image, cv2.COLOR_BGR2GRAY)\n",
    "    blurNumber = cv2.Laplacian(gray, cv2.CV_64F).var()\n",
    "    #print(\"blurNumber:\", blurNumber)\n",
    "    return (file, mdate_time_text, cdate_time_text, blurNumber)"
   ]
  },
  {
   "cell_type": "code",
   "execution_count": 24,
   "metadata": {},
   "outputs": [
    {
     "name": "stdout",
     "output_type": "stream",
     "text": [
      "number of files =  6\n",
      "('/mnt/g/salsaSolo2019/temp/IMG_1764.JPG', '13:12:2019:16:55:43', '13:12:2019:16:55:43', 39.628525694089305)\n",
      "('/mnt/g/salsaSolo2019/temp/IMG_1765.JPG', '13:12:2019:16:55:30', '13:12:2019:16:55:30', 38.83193915217457)\n",
      "('/mnt/g/salsaSolo2019/temp/IMG_1766.JPG', '13:12:2019:17:6:38', '13:12:2019:17:6:38', 37.746282798819756)\n",
      "('/mnt/g/salsaSolo2019/temp/IMG_1767.JPG', '13:12:2019:17:6:38', '13:12:2019:17:6:38', 36.86326605268704)\n",
      "('/mnt/g/salsaSolo2019/temp/IMG_1768.JPG', '13:12:2019:17:6:38', '13:12:2019:17:6:38', 37.35875912245614)\n",
      "('/mnt/g/salsaSolo2019/temp/IMG_1769.JPG', '13:12:2019:17:6:38', '13:12:2019:17:6:38', 33.495546358078755)\n"
     ]
    }
   ],
   "source": [
    "dir = \"/mnt/g/salsaSolo2019/temp/\"\n",
    "files = os.listdir(dir)\n",
    "print(\"number of files = \", len(files))\n",
    "for file in files:\n",
    "        print(imageInfo(dir+file))\n"
   ]
  }
 ],
 "metadata": {
  "kernelspec": {
   "display_name": "Python 3",
   "language": "python",
   "name": "python3"
  },
  "language_info": {
   "codemirror_mode": {
    "name": "ipython",
    "version": 3
   },
   "file_extension": ".py",
   "mimetype": "text/x-python",
   "name": "python",
   "nbconvert_exporter": "python",
   "pygments_lexer": "ipython3",
   "version": "3.7.3"
  }
 },
 "nbformat": 4,
 "nbformat_minor": 2
}
