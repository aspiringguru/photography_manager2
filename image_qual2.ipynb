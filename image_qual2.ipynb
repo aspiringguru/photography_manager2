{
 "cells": [
  {
   "cell_type": "code",
   "execution_count": 1,
   "metadata": {},
   "outputs": [],
   "source": [
    "# import the necessary packages\n",
    "from imutils import paths\n",
    "import argparse\n",
    "import cv2\n",
    "    "
   ]
  },
  {
   "cell_type": "code",
   "execution_count": 7,
   "metadata": {},
   "outputs": [],
   "source": [
    "directory_ = \"/mnt/g/salsaSolo2019/temp2/\"\n",
    "threshold = 100"
   ]
  },
  {
   "cell_type": "code",
   "execution_count": 8,
   "metadata": {},
   "outputs": [],
   "source": [
    "def variance_of_laplacian(image):\n",
    "\t# compute the Laplacian of the image and then return the focus\n",
    "\t# measure, which is simply the variance of the Laplacian\n",
    "\treturn cv2.Laplacian(image, cv2.CV_64F).var()\n"
   ]
  },
  {
   "cell_type": "code",
   "execution_count": 9,
   "metadata": {},
   "outputs": [
    {
     "name": "stdout",
     "output_type": "stream",
     "text": [
      "imagePath: /mnt/g/salsaSolo2019/temp2/detecting_blur_result_001-785x1024.jpg\n",
      "fm: 81.33171277866242\n",
      "imagePath: /mnt/g/salsaSolo2019/temp2/detecting_blur_result_002.jpg\n",
      "fm: 135.6365509138381\n",
      "imagePath: /mnt/g/salsaSolo2019/temp2/detecting_blur_result_003.jpg\n",
      "fm: 334.8402454308094\n",
      "imagePath: /mnt/g/salsaSolo2019/temp2/detecting_blur_result_004.jpg\n",
      "fm: 244.14483028720628\n",
      "imagePath: /mnt/g/salsaSolo2019/temp2/detecting_blur_result_005.jpg\n",
      "fm: 212.02861096605744\n",
      "imagePath: /mnt/g/salsaSolo2019/temp2/detecting_blur_result_006.jpg\n",
      "fm: 164.02526631853786\n",
      "imagePath: /mnt/g/salsaSolo2019/temp2/detecting_blur_result_007.jpg\n",
      "fm: 427.124454308094\n",
      "imagePath: /mnt/g/salsaSolo2019/temp2/detecting_blur_result_008.jpg\n",
      "fm: 158.28929765013055\n",
      "imagePath: /mnt/g/salsaSolo2019/temp2/detecting_blur_result_009.jpg\n",
      "fm: 149.29716449086163\n",
      "imagePath: /mnt/g/salsaSolo2019/temp2/detecting_blur_result_010.jpg\n",
      "fm: 198.7309582245431\n",
      "imagePath: /mnt/g/salsaSolo2019/temp2/detecting_blur_result_011.jpg\n",
      "fm: 199.13725848563968\n",
      "imagePath: /mnt/g/salsaSolo2019/temp2/detecting_blur_result_012.jpg\n",
      "fm: 168.8362454308094\n"
     ]
    }
   ],
   "source": [
    "# loop over the input images\n",
    "for imagePath in paths.list_images(directory_):\n",
    "\tprint(\"imagePath:\", imagePath)\n",
    "\t# load the image, convert it to grayscale, and compute the\n",
    "\t# focus measure of the image using the Variance of Laplacian\n",
    "\t# method\n",
    "\timage = cv2.imread(imagePath)\n",
    "\tgray = cv2.cvtColor(image, cv2.COLOR_BGR2GRAY)\n",
    "\tfm = variance_of_laplacian(gray)\n",
    "\tprint(\"fm:\", fm)\n",
    "\n"
   ]
  },
  {
   "cell_type": "code",
   "execution_count": null,
   "metadata": {},
   "outputs": [],
   "source": []
  },
  {
   "cell_type": "code",
   "execution_count": null,
   "metadata": {},
   "outputs": [],
   "source": []
  }
 ],
 "metadata": {
  "kernelspec": {
   "display_name": "Python 3",
   "language": "python",
   "name": "python3"
  },
  "language_info": {
   "codemirror_mode": {
    "name": "ipython",
    "version": 3
   },
   "file_extension": ".py",
   "mimetype": "text/x-python",
   "name": "python",
   "nbconvert_exporter": "python",
   "pygments_lexer": "ipython3",
   "version": "3.7.3"
  }
 },
 "nbformat": 4,
 "nbformat_minor": 2
}
