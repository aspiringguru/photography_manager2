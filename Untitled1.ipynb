{
 "cells": [
  {
   "cell_type": "code",
   "execution_count": 7,
   "metadata": {},
   "outputs": [],
   "source": [
    "import facebook"
   ]
  },
  {
   "cell_type": "code",
   "execution_count": 45,
   "metadata": {},
   "outputs": [],
   "source": [
    "token = \"EAAGAXiH10q0BAOs6ZAMhDCWTX4sNmdO6OxDHB4GaJZCxB0ybCKY4ozpHaRSret44kykek7SwdpuKZCocekOAQWPNUMDyHfTSmGw1fK28d0uRWDnQitgXhvYG7yKziRGAZBaMcI6HQoZAzuujMkKyt3Buv7YLki2ZBZApm6O9wqZACv7lFRCIHr4s1Vyh5D55rDWMQrbzd3O6H36SmZAzjKid8k9UJsFn1FlOX2nd2ZAZCbLCQZDZD\""
   ]
  },
  {
   "cell_type": "code",
   "execution_count": 46,
   "metadata": {},
   "outputs": [
    {
     "data": {
      "text/plain": [
       "'EAAGAXiH10q0BAOs6ZAMhDCWTX4sNmdO6OxDHB4GaJZCxB0ybCKY4ozpHaRSret44kykek7SwdpuKZCocekOAQWPNUMDyHfTSmGw1fK28d0uRWDnQitgXhvYG7yKziRGAZBaMcI6HQoZAzuujMkKyt3Buv7YLki2ZBZApm6O9wqZACv7lFRCIHr4s1Vyh5D55rDWMQrbzd3O6H36SmZAzjKid8k9UJsFn1FlOX2nd2ZAZCbLCQZDZD'"
      ]
     },
     "execution_count": 46,
     "metadata": {},
     "output_type": "execute_result"
    }
   ],
   "source": [
    "token"
   ]
  },
  {
   "cell_type": "code",
   "execution_count": 47,
   "metadata": {},
   "outputs": [
    {
     "name": "stdout",
     "output_type": "stream",
     "text": [
      "<class 'facebook.GraphAPI'>\n",
      "{'name': 'Matthew Taylor', 'id': '10157798244997246'}\n"
     ]
    }
   ],
   "source": [
    "#Valid API versions are '2.8', '2.9', '2.10', '2.11', '2.12', '3.0', '3.1'\n",
    "graph = facebook.GraphAPI(access_token=token, version = 3.1)\n",
    "print(type(graph))\n",
    "profile = graph.get_object(id='me')\n",
    "print(profile)"
   ]
  },
  {
   "cell_type": "code",
   "execution_count": 48,
   "metadata": {},
   "outputs": [
    {
     "data": {
      "text/plain": [
       "{'email': 'bmatthewtaylor@gmail.com',\n",
       " 'id': '10157798244997246',\n",
       " 'name': 'Matthew Taylor'}"
      ]
     },
     "execution_count": 48,
     "metadata": {},
     "output_type": "execute_result"
    }
   ],
   "source": [
    "graph.get_object(id='me?fields=email,id,name')"
   ]
  },
  {
   "cell_type": "code",
   "execution_count": 49,
   "metadata": {},
   "outputs": [],
   "source": [
    "args = {'fields' : 'id,name,email', }\n",
    "profile = graph.get_object('me', **args)"
   ]
  },
  {
   "cell_type": "code",
   "execution_count": 50,
   "metadata": {},
   "outputs": [
    {
     "data": {
      "text/plain": [
       "{'id': '10157798244997246',\n",
       " 'name': 'Matthew Taylor',\n",
       " 'email': 'bmatthewtaylor@gmail.com'}"
      ]
     },
     "execution_count": 50,
     "metadata": {},
     "output_type": "execute_result"
    }
   ],
   "source": [
    "profile"
   ]
  },
  {
   "cell_type": "code",
   "execution_count": 51,
   "metadata": {},
   "outputs": [
    {
     "data": {
      "text/plain": [
       "{'id': '10157798244997246',\n",
       " 'name': 'Matthew Taylor',\n",
       " 'email': 'bmatthewtaylor@gmail.com'}"
      ]
     },
     "execution_count": 51,
     "metadata": {},
     "output_type": "execute_result"
    }
   ],
   "source": [
    "graph = facebook.GraphAPI(token)\n",
    "fields = {'fields' : 'id,name,email'}\n",
    "profile = graph.get_object('10157798244997246', **fields)\n",
    "profile"
   ]
  },
  {
   "cell_type": "code",
   "execution_count": 52,
   "metadata": {},
   "outputs": [
    {
     "data": {
      "text/plain": [
       "{'id': '10157798244997246',\n",
       " 'name': 'Matthew Taylor',\n",
       " 'first_name': 'Matthew',\n",
       " 'last_name': 'Taylor',\n",
       " 'age_range': {'min': 21},\n",
       " 'link': 'https://www.facebook.com/app_scoped_user_id/YXNpZADpBWEU2RDRsdGc2YmRqV0NVUzRQZAWRncGRYcDhDVWpDLTY4QkI2MDVGWnZA0UmNsSjZAVUS1uaGdrSzg0dXZAZAYmdZAQXFqWV9sZAjN0MldSdTc2S2NvaDhWMjluUlVEb2dQNE5SVGFTV1JVaAZDZD/',\n",
       " 'gender': 'male',\n",
       " 'picture': {'data': {'height': 50,\n",
       "   'is_silhouette': False,\n",
       "   'url': 'https://platform-lookaside.fbsbx.com/platform/profilepic/?asid=10157798244997246&height=50&width=50&ext=1578612597&hash=AeS79cW464c-q64e',\n",
       "   'width': 50}}}"
      ]
     },
     "execution_count": 52,
     "metadata": {},
     "output_type": "execute_result"
    }
   ],
   "source": [
    "graph.get_object(id='me?fields=id, cover, name, first_name, last_name, age_range, link, gender, locale, picture, timezone, updated_time, verified')\n"
   ]
  },
  {
   "cell_type": "code",
   "execution_count": 53,
   "metadata": {},
   "outputs": [
    {
     "data": {
      "text/plain": [
       "{'name': 'Matthew Taylor', 'id': '10157798244997246'}"
      ]
     },
     "execution_count": 53,
     "metadata": {},
     "output_type": "execute_result"
    }
   ],
   "source": [
    "graph.get_object(id='me?about')"
   ]
  },
  {
   "cell_type": "code",
   "execution_count": 54,
   "metadata": {},
   "outputs": [
    {
     "data": {
      "text/plain": [
       "{'name': 'Matthew Taylor', 'id': '10157798244997246'}"
      ]
     },
     "execution_count": 54,
     "metadata": {},
     "output_type": "execute_result"
    }
   ],
   "source": [
    "graph.get_object(id='me?admin_notes')"
   ]
  },
  {
   "cell_type": "code",
   "execution_count": 55,
   "metadata": {
    "scrolled": true
   },
   "outputs": [
    {
     "data": {
      "text/plain": [
       "{'name': 'Matthew Taylor', 'id': '10157798244997246'}"
      ]
     },
     "execution_count": 55,
     "metadata": {},
     "output_type": "execute_result"
    }
   ],
   "source": [
    "graph.get_object(id='me?birthday')"
   ]
  },
  {
   "cell_type": "code",
   "execution_count": 56,
   "metadata": {},
   "outputs": [
    {
     "data": {
      "text/plain": [
       "{'data': [], 'summary': {'total_count': 2187}}"
      ]
     },
     "execution_count": 56,
     "metadata": {},
     "output_type": "execute_result"
    }
   ],
   "source": [
    "graph   = facebook.GraphAPI( token )\n",
    "friends = graph.get_object(\"me/friends\")\n",
    "friends"
   ]
  },
  {
   "cell_type": "code",
   "execution_count": null,
   "metadata": {},
   "outputs": [],
   "source": []
  }
 ],
 "metadata": {
  "kernelspec": {
   "display_name": "Python 3",
   "language": "python",
   "name": "python3"
  },
  "language_info": {
   "codemirror_mode": {
    "name": "ipython",
    "version": 3
   },
   "file_extension": ".py",
   "mimetype": "text/x-python",
   "name": "python",
   "nbconvert_exporter": "python",
   "pygments_lexer": "ipython3",
   "version": "3.7.3"
  }
 },
 "nbformat": 4,
 "nbformat_minor": 2
}
